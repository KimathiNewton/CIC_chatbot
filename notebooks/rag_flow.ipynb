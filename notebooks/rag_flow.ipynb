{
 "cells": [
  {
   "cell_type": "code",
   "execution_count": 5,
   "id": "9de4168d-bafe-4d32-9701-ab9e7fe193ae",
   "metadata": {},
   "outputs": [],
   "source": [
    "import pandas as pd\n",
    "import numpy as np\n",
    "from openai import OpenAI\n",
    "from elasticsearch import Elasticsearch\n",
    "from dotenv import load_dotenv\n",
    "import json\n",
    "from tqdm.auto import tqdm"
   ]
  },
  {
   "cell_type": "code",
   "execution_count": 2,
   "id": "859ea64b-6f63-4d9e-b1d8-e16a54906497",
   "metadata": {},
   "outputs": [
    {
     "data": {
      "text/plain": [
       "True"
      ]
     },
     "execution_count": 2,
     "metadata": {},
     "output_type": "execute_result"
    }
   ],
   "source": [
    "load_dotenv()\n"
   ]
  },
  {
   "cell_type": "code",
   "execution_count": 3,
   "id": "ef8e9cdc-dfd4-4e54-a332-4b9bde4e6047",
   "metadata": {},
   "outputs": [],
   "source": [
    "client = OpenAI()"
   ]
  },
  {
   "cell_type": "markdown",
   "id": "912045b6-dd09-4e1a-a620-5085bf4ce460",
   "metadata": {},
   "source": [
    "## Loading Data"
   ]
  },
  {
   "cell_type": "code",
   "execution_count": 6,
   "id": "161c59b0-d973-4b72-83fd-b80620e7f179",
   "metadata": {},
   "outputs": [],
   "source": [
    "with open('documents-with-ids.json', 'rt') as f:\n",
    "    documents= json.load(f)"
   ]
  },
  {
   "cell_type": "code",
   "execution_count": 7,
   "id": "a5eb8a5b-5904-47ed-ab3f-b26c5f724ce2",
   "metadata": {},
   "outputs": [
    {
     "data": {
      "text/plain": [
       "{'question': 'What services are covered under preventive care?',\n",
       " 'text': 'Preventive care typically includes annual check-ups, vaccinations, and screenings. Coverage varies, so refer to your policy for specific services.',\n",
       " 'policy': 'Health Insurance',\n",
       " 'id': 'ac3af67e'}"
      ]
     },
     "execution_count": 7,
     "metadata": {},
     "output_type": "execute_result"
    }
   ],
   "source": [
    "documents[0]"
   ]
  },
  {
   "cell_type": "markdown",
   "id": "5c4c777f-50ac-4906-a71e-99b40089aef9",
   "metadata": {},
   "source": [
    "## Setting up Elasticsearch"
   ]
  },
  {
   "cell_type": "code",
   "execution_count": 15,
   "id": "a78df1cc-5a5a-40b4-b673-19c7f0319453",
   "metadata": {},
   "outputs": [],
   "source": [
    "es_client = Elasticsearch('http://localhost:9200') "
   ]
  },
  {
   "cell_type": "code",
   "execution_count": 16,
   "id": "c9367c18-41ad-495e-9920-1a0c552f0d18",
   "metadata": {},
   "outputs": [
    {
     "data": {
      "text/plain": [
       "ObjectApiResponse({'acknowledged': True, 'shards_acknowledged': True, 'index': 'policy-questions'})"
      ]
     },
     "execution_count": 16,
     "metadata": {},
     "output_type": "execute_result"
    }
   ],
   "source": [
    "index_settings = {\n",
    "    \"settings\": {\n",
    "        \"number_of_shards\": 1,\n",
    "        \"number_of_replicas\": 0\n",
    "    },\n",
    "    \"mappings\": {\n",
    "        \"properties\": {\n",
    "            \"text\": {\"type\": \"text\"},\n",
    "            \"question\": {\"type\": \"text\"},\n",
    "            \"policy\": {\"type\": \"keyword\"} \n",
    "        }\n",
    "    }\n",
    "}\n",
    "\n",
    "index_name = \"policy-questions\"\n",
    "\n",
    "es_client.indices.create(index=index_name, body=index_settings)"
   ]
  },
  {
   "cell_type": "code",
   "execution_count": 18,
   "id": "70fe3c97-916d-42c0-bd7b-4f42d9056409",
   "metadata": {},
   "outputs": [
    {
     "data": {
      "application/vnd.jupyter.widget-view+json": {
       "model_id": "6c8e5c9a438f41bc9a1bcfd4ab7bfaf5",
       "version_major": 2,
       "version_minor": 0
      },
      "text/plain": [
       "  0%|          | 0/201 [00:00<?, ?it/s]"
      ]
     },
     "metadata": {},
     "output_type": "display_data"
    }
   ],
   "source": [
    "for doc in tqdm(documents):\n",
    "    es_client.index(index=index_name, document=doc)"
   ]
  },
  {
   "cell_type": "code",
   "execution_count": 23,
   "id": "7c72e000-910b-4fb5-aa88-2561e7bc39f2",
   "metadata": {},
   "outputs": [],
   "source": [
    "def elastic_search(query, policy_filter):\n",
    "    search_query = {\n",
    "        \"size\": 5,\n",
    "        \"query\": {\n",
    "            \"bool\": {\n",
    "                \"must\": {\n",
    "                    \"multi_match\": {\n",
    "                        \"query\": query,\n",
    "                        \"fields\": [\"question^3\", \"text\", \"section\"],\n",
    "                        \"type\": \"best_fields\"\n",
    "                    }\n",
    "                },\n",
    "                \"filter\": {\n",
    "                    \"term\": {\n",
    "                        \"policy\": policy_filter\n",
    "                    }\n",
    "                }\n",
    "            }\n",
    "        }\n",
    "    }\n",
    "\n",
    "    response = es_client.search(index=index_name, body=search_query)\n",
    "    \n",
    "    result_docs = []\n",
    "    \n",
    "    for hit in response['hits']['hits']:\n",
    "        result_docs.append(hit['_source'])\n",
    "    \n",
    "    return result_docs\n"
   ]
  },
  {
   "cell_type": "code",
   "execution_count": 36,
   "id": "0ba7c813-4644-42d5-9134-43f6a9eafcb5",
   "metadata": {},
   "outputs": [
    {
     "data": {
      "text/plain": [
       "[{'question': 'How do I file a claim for homeowners insurance?',\n",
       "  'text': 'To file a claim, contact your insurance provider as soon as possible, provide details about the damage, and submit any necessary documentation, such as photos and repair estimates.',\n",
       "  'policy': 'Homeowners Insurance',\n",
       "  'id': '53e76f9b'},\n",
       " {'question': 'Do I need homeowners insurance if my home is paid off?',\n",
       "  'text': \"While it's not legally required, having homeowners insurance is highly recommended to protect your investment from potential risks and damages.\",\n",
       "  'policy': 'Homeowners Insurance',\n",
       "  'id': '84eaa3b8'},\n",
       " {'question': 'What should I do if I experience water damage in my home?',\n",
       "  'text': 'If you experience water damage, report it to your insurance provider immediately, document the damage with photos, and start necessary repairs to prevent further damage.',\n",
       "  'policy': 'Homeowners Insurance',\n",
       "  'id': 'cb5d1d56'},\n",
       " {'question': 'What is a home inventory, and should I have one?',\n",
       "  'text': 'A home inventory is a list of your belongings. Having one can help you file claims accurately if items are lost, damaged, or stolen.',\n",
       "  'policy': 'Homeowners Insurance',\n",
       "  'id': '1a3f88db'},\n",
       " {'question': 'How is the rebuilding cost of my home calculated?',\n",
       "  'text': 'Rebuilding cost is based on current construction costs and the materials needed to rebuild your home. Your insurer may assess this periodically.',\n",
       "  'policy': 'Homeowners Insurance',\n",
       "  'id': '14e418e7'}]"
      ]
     },
     "execution_count": 36,
     "metadata": {},
     "output_type": "execute_result"
    }
   ],
   "source": [
    "elastic_search(\n",
    "    query=\"How do I file a home claim insurance\",\n",
    "    policy_filter=\"Homeowners Insurance\"\n",
    ")"
   ]
  },
  {
   "cell_type": "markdown",
   "id": "d12d9931-c747-4dcb-9116-5690f55d141d",
   "metadata": {},
   "source": [
    "## Evaluating Retrieval"
   ]
  },
  {
   "cell_type": "code",
   "execution_count": 38,
   "id": "12838249-9d24-4cd5-92f4-543f874443cb",
   "metadata": {},
   "outputs": [],
   "source": [
    "df_ground_truth = pd.read_csv('data/ground-truth-data.csv')"
   ]
  },
  {
   "cell_type": "code",
   "execution_count": 39,
   "id": "497109dc-571e-4312-a868-6719e251edb3",
   "metadata": {},
   "outputs": [
    {
     "data": {
      "text/html": [
       "<div>\n",
       "<style scoped>\n",
       "    .dataframe tbody tr th:only-of-type {\n",
       "        vertical-align: middle;\n",
       "    }\n",
       "\n",
       "    .dataframe tbody tr th {\n",
       "        vertical-align: top;\n",
       "    }\n",
       "\n",
       "    .dataframe thead th {\n",
       "        text-align: right;\n",
       "    }\n",
       "</style>\n",
       "<table border=\"1\" class=\"dataframe\">\n",
       "  <thead>\n",
       "    <tr style=\"text-align: right;\">\n",
       "      <th></th>\n",
       "      <th>id</th>\n",
       "      <th>question</th>\n",
       "      <th>policy</th>\n",
       "    </tr>\n",
       "  </thead>\n",
       "  <tbody>\n",
       "    <tr>\n",
       "      <th>0</th>\n",
       "      <td>ac3af67e</td>\n",
       "      <td>What does preventive care usually include in y...</td>\n",
       "      <td>Health Insurance</td>\n",
       "    </tr>\n",
       "    <tr>\n",
       "      <th>1</th>\n",
       "      <td>ac3af67e</td>\n",
       "      <td>Are annual health assessments covered under yo...</td>\n",
       "      <td>Health Insurance</td>\n",
       "    </tr>\n",
       "    <tr>\n",
       "      <th>2</th>\n",
       "      <td>ac3af67e</td>\n",
       "      <td>Do you offer coverage for vaccinations in your...</td>\n",
       "      <td>Health Insurance</td>\n",
       "    </tr>\n",
       "    <tr>\n",
       "      <th>3</th>\n",
       "      <td>ac3af67e</td>\n",
       "      <td>Can you provide information on the screenings ...</td>\n",
       "      <td>Health Insurance</td>\n",
       "    </tr>\n",
       "    <tr>\n",
       "      <th>4</th>\n",
       "      <td>ac3af67e</td>\n",
       "      <td>How can I find out which specific preventive s...</td>\n",
       "      <td>Health Insurance</td>\n",
       "    </tr>\n",
       "  </tbody>\n",
       "</table>\n",
       "</div>"
      ],
      "text/plain": [
       "         id                                           question  \\\n",
       "0  ac3af67e  What does preventive care usually include in y...   \n",
       "1  ac3af67e  Are annual health assessments covered under yo...   \n",
       "2  ac3af67e  Do you offer coverage for vaccinations in your...   \n",
       "3  ac3af67e  Can you provide information on the screenings ...   \n",
       "4  ac3af67e  How can I find out which specific preventive s...   \n",
       "\n",
       "             policy  \n",
       "0  Health Insurance  \n",
       "1  Health Insurance  \n",
       "2  Health Insurance  \n",
       "3  Health Insurance  \n",
       "4  Health Insurance  "
      ]
     },
     "execution_count": 39,
     "metadata": {},
     "output_type": "execute_result"
    }
   ],
   "source": [
    "df_ground_truth.head()"
   ]
  },
  {
   "cell_type": "code",
   "execution_count": 40,
   "id": "f6ff5ca2-c8d6-4fa6-9e1e-7312a95ceeb8",
   "metadata": {},
   "outputs": [],
   "source": [
    "ground_truth = df_ground_truth.to_dict(orient='records')"
   ]
  },
  {
   "cell_type": "code",
   "execution_count": 54,
   "id": "a3935a6b-39fc-497a-bd48-7230252d2100",
   "metadata": {},
   "outputs": [
    {
     "data": {
      "application/vnd.jupyter.widget-view+json": {
       "model_id": "c74b519bb7ec4854837f2c709ff935e9",
       "version_major": 2,
       "version_minor": 0
      },
      "text/plain": [
       "  0%|          | 0/980 [00:00<?, ?it/s]"
      ]
     },
     "metadata": {},
     "output_type": "display_data"
    }
   ],
   "source": [
    "relevance_total = []\n",
    "\n",
    "for q in tqdm(ground_truth):\n",
    "    doc_id = q['id']\n",
    "    results = elastic_search(query=q['question'], policy_filter=q['policy'])\n",
    "    relevance = [d['id'] == doc_id for d in results]\n",
    "    relevance_total.append(relevance)"
   ]
  },
  {
   "cell_type": "markdown",
   "id": "b7fb550d-addc-455b-b388-db138876abda",
   "metadata": {},
   "source": [
    "Hit Rate: One if the original answer is in the Retrieved Documents"
   ]
  },
  {
   "cell_type": "code",
   "execution_count": 48,
   "id": "17ec0747-e98c-4da5-be31-621b7b909ad3",
   "metadata": {},
   "outputs": [],
   "source": [
    "def hit_rate(relevance_total):\n",
    "    cnt = 0\n",
    "\n",
    "    for line in relevance_total:\n",
    "        if True in line:\n",
    "            cnt = cnt + 1\n",
    "\n",
    "    return cnt / len(relevance_total)"
   ]
  },
  {
   "cell_type": "markdown",
   "id": "af872b13-3f80-4ec7-90c6-4c9bd9fcd9f0",
   "metadata": {},
   "source": [
    "Mean reciprocal rank: 1/Rank of the Original ANswer if the Original ANswer is in the Retrieved Documents"
   ]
  },
  {
   "cell_type": "code",
   "execution_count": 49,
   "id": "4539d926-52a3-4d3a-b365-9f955119d939",
   "metadata": {},
   "outputs": [],
   "source": [
    "def mrr(relevance_total):\n",
    "    total_score = 0.0\n",
    "\n",
    "    for line in relevance_total:\n",
    "        for rank in range(len(line)):\n",
    "            if line[rank] == True:\n",
    "                total_score = total_score + 1 / (rank + 1)\n",
    "\n",
    "    return total_score / len(relevance_total)"
   ]
  },
  {
   "cell_type": "code",
   "execution_count": 55,
   "id": "ce3f9d3b-4ab3-4945-84bf-02544ad93ec5",
   "metadata": {},
   "outputs": [
    {
     "data": {
      "text/plain": [
       "(0.8183673469387756, 0.6226530612244899)"
      ]
     },
     "execution_count": 55,
     "metadata": {},
     "output_type": "execute_result"
    }
   ],
   "source": [
    "hit_rate(relevance_total), mrr(relevance_total)"
   ]
  },
  {
   "cell_type": "markdown",
   "id": "e9edf252-f87f-481c-93b2-2b4b2dea6fea",
   "metadata": {},
   "source": [
    "## RAG Flow Implementation"
   ]
  },
  {
   "cell_type": "code",
   "execution_count": 28,
   "id": "bdc51143-f861-46e2-8a8f-e5c6a324f53b",
   "metadata": {},
   "outputs": [],
   "source": [
    "def build_prompt(query, search_results):\n",
    "    prompt_template = \"\"\"\n",
    "You are CIC's insurance policy assistant. CIC Insurance Group Limited, commonly referred to as CIC Group, \n",
    "is a Kenyan insurance and investment group that operates mainly in Kenya, Uganda, South Sudan and Malawi. \n",
    "The group's headquarters are located in CIC Plaza, Mara Road, Upperhill in Nairobi, Kenya. \n",
    "CIC Insurance Group is leading Micro and Co-operative insurance provider in Kenya with its subsidiaries involved in fund, \n",
    "Reits and Asset Management, general insurance, medical insurance and life Assurance, pension and annuities.\n",
    "Answer the customer's question based on the provided context.\n",
    "Rules:\n",
    "1.If the Question is a greeting or an appreciation comment, respond accordingly in a polite manner but never step out of your context.\n",
    "2. Only use information from the provided context\n",
    "3. If information is not in context, acknowledge and suggest contacting customer service\n",
    "4. Be clear and professional\n",
    "5. If query indicates urgency, note that in response\n",
    "\n",
    "CUSTOMER INQUIRY: {customer_inquiry}\n",
    "\n",
    "CONTEXT: \n",
    "{context}\n",
    "\"\"\".strip()\n",
    "\n",
    "    context = \"\"\n",
    "    \n",
    "    for doc in search_results:\n",
    "        context += f\"Policy Type: {doc.get('policy', 'N/A')}\\nFAQ Question: {doc.get('question', 'N/A')}\\nAnswer: {doc.get('text', 'N/A')}\\n\\n\"\n",
    "    \n",
    "    prompt = prompt_template.format(customer_inquiry=query, context=context).strip()\n",
    "    return prompt\n",
    "\n",
    "def llm(prompt):\n",
    "    response = client.chat.completions.create(\n",
    "        model='gpt-4o',\n",
    "        messages=[{\"role\": \"user\", \"content\": prompt}]\n",
    "    )\n",
    "    \n",
    "    return response.choices[0].message.content"
   ]
  },
  {
   "cell_type": "code",
   "execution_count": 29,
   "id": "81abecbc-eb6b-428f-ab7d-7e21f58b64de",
   "metadata": {},
   "outputs": [],
   "source": [
    "def rag(query):\n",
    "    search_results = elastic_search(query, \"Health Insurance\")\n",
    "    prompt = build_prompt(query, search_results)\n",
    "    answer = llm(prompt)\n",
    "    return answer"
   ]
  },
  {
   "cell_type": "code",
   "execution_count": 35,
   "id": "0ea9315a-a619-4066-9e90-8c260f2c8450",
   "metadata": {},
   "outputs": [
    {
     "data": {
      "text/plain": [
       "\"Health insurance policies generally cover a variety of healthcare services, including doctor visits, hospital stays, prescription medications, preventive care, and medical tests. Many plans also cover mental health services, such as therapy and counseling. However, dental coverage is typically not included in standard health insurance, though it can often be added as an optional benefit. Coverage for prescription medications and mental health services may vary, so it's important to review your specific policy details to understand the exact coverage and any limitations. If you have further questions or want to explore add-on options like dental coverage, it's recommended to contact your insurance provider directly.\""
      ]
     },
     "execution_count": 35,
     "metadata": {},
     "output_type": "execute_result"
    }
   ],
   "source": [
    "query = 'Tell me about Health insurance policy?'\n",
    "rag(query)"
   ]
  },
  {
   "cell_type": "code",
   "execution_count": null,
   "id": "80f8cccf-9232-462d-b9cd-a7859b592c8d",
   "metadata": {},
   "outputs": [],
   "source": []
  },
  {
   "cell_type": "code",
   "execution_count": null,
   "id": "3d359c0d-0589-48a6-89b5-62b4ef428d9e",
   "metadata": {},
   "outputs": [],
   "source": []
  },
  {
   "cell_type": "code",
   "execution_count": null,
   "id": "a276a187-d414-4ffe-9004-2377c3e8b167",
   "metadata": {},
   "outputs": [],
   "source": []
  },
  {
   "cell_type": "code",
   "execution_count": null,
   "id": "bff971bf-79b6-4edb-8173-59112a6ec923",
   "metadata": {},
   "outputs": [],
   "source": []
  },
  {
   "cell_type": "code",
   "execution_count": null,
   "id": "d34b9b65-be2f-4458-bdb5-e40c776d2222",
   "metadata": {},
   "outputs": [],
   "source": []
  },
  {
   "cell_type": "code",
   "execution_count": null,
   "id": "043bed1d-b69e-4edb-a9ca-704c11f57187",
   "metadata": {},
   "outputs": [],
   "source": []
  },
  {
   "cell_type": "code",
   "execution_count": null,
   "id": "6bd2c959-5653-4e30-a93b-c1f8480528c7",
   "metadata": {},
   "outputs": [],
   "source": []
  },
  {
   "cell_type": "code",
   "execution_count": null,
   "id": "fc588cae-0618-46b2-9603-83ff1f5c0082",
   "metadata": {},
   "outputs": [],
   "source": []
  },
  {
   "cell_type": "code",
   "execution_count": null,
   "id": "ffc13446-6a34-4bf1-9773-9d6e47085e23",
   "metadata": {},
   "outputs": [],
   "source": []
  },
  {
   "cell_type": "code",
   "execution_count": null,
   "id": "c2d4e277-231a-4bbd-88e1-e22c3cf6d29a",
   "metadata": {},
   "outputs": [],
   "source": []
  },
  {
   "cell_type": "code",
   "execution_count": null,
   "id": "8ca244dd-2546-48e2-b60e-e1f6671bb662",
   "metadata": {},
   "outputs": [],
   "source": []
  },
  {
   "cell_type": "code",
   "execution_count": null,
   "id": "47af9ff7-7a5b-4dd2-9291-9ae60f218839",
   "metadata": {},
   "outputs": [],
   "source": []
  },
  {
   "cell_type": "code",
   "execution_count": null,
   "id": "93a73056-e3c7-4500-bbd5-3a569965813c",
   "metadata": {},
   "outputs": [],
   "source": []
  },
  {
   "cell_type": "code",
   "execution_count": null,
   "id": "ff8a5be3-385c-431f-baae-179d177ce1b8",
   "metadata": {},
   "outputs": [],
   "source": []
  },
  {
   "cell_type": "code",
   "execution_count": null,
   "id": "0f8d1d11-b351-42e2-af02-84360ae51bd8",
   "metadata": {},
   "outputs": [],
   "source": []
  },
  {
   "cell_type": "code",
   "execution_count": null,
   "id": "d3902395-b205-4fac-be0e-71c563a5b29e",
   "metadata": {},
   "outputs": [],
   "source": []
  },
  {
   "cell_type": "code",
   "execution_count": 31,
   "id": "d8095274-c9cd-4fd5-80d2-069fc951834f",
   "metadata": {},
   "outputs": [],
   "source": [
    "def detect_policy_type(query):\n",
    "    \"\"\"Detect the insurance policy type from the query\"\"\"\n",
    "    policy_keywords = {\n",
    "        \"Health Insurance\": [\"health\", \"medical\", \"doctor\", \"hospital\", \"prescription\", \"preventive\"],\n",
    "        \"Auto Insurance\": [\"car\", \"vehicle\", \"auto\", \"accident\", \"collision\", \"comprehensive\"],\n",
    "        \"Home Insurance\": [\"home\", \"house\", \"property\", \"damage\", \"theft\", \"flood\"]\n",
    "    }\n",
    "    \n",
    "    query_lower = query.lower()\n",
    "    for policy_type, keywords in policy_keywords.items():\n",
    "        if any(keyword in query_lower for keyword in keywords):\n",
    "            return policy_type\n",
    "    \n",
    "    return \"General\"  "
   ]
  },
  {
   "cell_type": "code",
   "execution_count": 32,
   "id": "c63d6589-309d-4b2a-ba3f-961ff56c0229",
   "metadata": {},
   "outputs": [],
   "source": [
    "def enhanced_rag(query):\n",
    "    \"\"\"Enhanced RAG pipeline with policy detection and multiple context handling\"\"\"\n",
    "    # Detect policy type\n",
    "    policy_type = detect_policy_type(query)\n",
    "    \n",
    "    # Get relevant documents from Elasticsearch\n",
    "    if policy_type == \"General\":\n",
    "        # Search across all policy types if no specific type is detected\n",
    "        search_results = []\n",
    "        for policy in [\"Health Insurance\", \"Auto Insurance\", \"Home Insurance\"]:\n",
    "            results = elastic_search(query, policy)\n",
    "            search_results.extend(results[:2])  # Take top 2 from each policy type\n",
    "    else:\n",
    "        search_results = elastic_search(query, policy_type)\n",
    "    \n",
    "    # Build prompt with enhanced context\n",
    "    prompt = build_enhanced_prompt(query, search_results, policy_type)\n",
    "    \n",
    "    # Get LLM response\n",
    "    answer = llm(prompt)\n",
    "    \n",
    "    return {\n",
    "        \"answer\": answer,\n",
    "        \"policy_type\": policy_type,\n",
    "        \"context_used\": search_results\n",
    "    }\n",
    "\n",
    "def build_enhanced_prompt(query, search_results, policy_type):\n",
    "    \"\"\"Build an enhanced prompt with better context structuring\"\"\"\n",
    "    prompt_template = \"\"\"\n",
    "You are CIC's insurance policy assistant. Answer the customer's question based on the provided context.\n",
    "Follow these rules:\n",
    "1. Only use information from the provided context\n",
    "2. If information is not in the context, acknowledge that and suggest contacting customer service\n",
    "3. Be clear and concise, but maintain a helpful and professional tone\n",
    "4. If the query indicates urgency or distress, note that in your response\n",
    "\n",
    "POLICY TYPE: {policy_type}\n",
    "\n",
    "CUSTOMER QUERY: {query}\n",
    "\n",
    "RELEVANT CONTEXT:\n",
    "{context}\n",
    "\n",
    "RESPONSE GUIDELINES:\n",
    "- Focus on addressing the specific question\n",
    "- Include relevant policy details from the context\n",
    "- Mention any important limitations or conditions\n",
    "- If escalation is needed, suggest appropriate next steps\n",
    "\n",
    "Please provide your response:\n",
    "\"\"\".strip()\n",
    "\n",
    "    # Format context from search results\n",
    "    formatted_context = \"\"\n",
    "    for i, doc in enumerate(search_results, 1):\n",
    "        formatted_context += f\"\\nSource {i}:\\n\"\n",
    "        formatted_context += f\"Policy: {doc.get('policy', 'N/A')}\\n\"\n",
    "        formatted_context += f\"Q: {doc.get('question', 'N/A')}\\n\"\n",
    "        formatted_context += f\"A: {doc.get('text', 'N/A')}\\n\"\n",
    "\n",
    "    return prompt_template.format(\n",
    "        policy_type=policy_type,\n",
    "        query=query,\n",
    "        context=formatted_context\n",
    "    )"
   ]
  },
  {
   "cell_type": "code",
   "execution_count": 33,
   "id": "3740d993-6790-49ac-9023-5be0cc1c1ccd",
   "metadata": {},
   "outputs": [],
   "source": [
    "def needs_escalation(query, answer):\n",
    "    \"\"\"Determine if the query needs escalation to human agent\"\"\"\n",
    "    escalation_triggers = {\n",
    "        'urgency_keywords': ['emergency', 'urgent', 'immediate', 'critical', 'asap'],\n",
    "        'distress_keywords': ['help', 'worried', 'concerned', 'upset', 'angry'],\n",
    "        'complex_keywords': ['claim dispute', 'policy cancellation', 'coverage denial'],\n",
    "    }\n",
    "    \n",
    "    query_lower = query.lower()\n",
    "    \n",
    "    # Check for urgency or distress\n",
    "    for keyword_type, keywords in escalation_triggers.items():\n",
    "        if any(keyword in query_lower for keyword in keywords):\n",
    "            return True, f\"Escalated due to {keyword_type}\"\n",
    "    \n",
    "    # Check if answer indicates uncertainty\n",
    "    uncertainty_phrases = ['contact customer service', 'cannot provide', 'don\\'t have information']\n",
    "    if any(phrase in answer.lower() for phrase in uncertainty_phrases):\n",
    "        return True, \"Escalated due to incomplete information\"\n",
    "        \n",
    "    return False, None\n",
    "\n",
    "def process_query(query):\n",
    "    \"\"\"Main function to process queries with escalation handling\"\"\"\n",
    "    # Get RAG response\n",
    "    rag_response = enhanced_rag(query)\n",
    "    answer = rag_response['answer']\n",
    "    \n",
    "    # Check if escalation is needed\n",
    "    needs_escalate, reason = needs_escalation(query, answer)\n",
    "    \n",
    "    if needs_escalate:\n",
    "        escalation_response = {\n",
    "            \"answer\": answer,\n",
    "            \"escalated\": True,\n",
    "            \"escalation_reason\": reason,\n",
    "            \"next_steps\": \"This query will be escalated to our customer service team. \"\n",
    "                         \"For urgent matters, please contact our 24/7 support line.\",\n",
    "            \"context\": rag_response\n",
    "        }\n",
    "        return escalation_response\n",
    "    \n",
    "    return {\n",
    "        \"answer\": answer,\n",
    "        \"escalated\": False,\n",
    "        \"context\": rag_response\n",
    "    }"
   ]
  },
  {
   "cell_type": "code",
   "execution_count": 34,
   "id": "c74c0429-b779-4c1c-9e00-a0ca1ff6ff92",
   "metadata": {},
   "outputs": [
    {
     "name": "stdout",
     "output_type": "stream",
     "text": [
      "\n",
      "Query: What does my health insurance cover?\n",
      "Escalated: False\n",
      "Answer: Your health insurance covers general doctor visits, prescriptions, and emergency care. For detailed information regarding specific coverage, including any limitations or additional services like mental health or preventive services, please refer to your policy document. If you need further assistance or have any urgent concerns, I recommend contacting our customer service for more personalized support.\n",
      "--------------------------------------------------\n",
      "\n",
      "Query: I had a car accident, need urgent help!\n",
      "Escalated: True\n",
      "Answer: I'm sorry to hear about your accident and I understand that you're in urgent need of help. Here's what you should do immediately:\n",
      "\n",
      "1. Ensure that everyone is safe and call emergency services if needed.\n",
      "2. Exchange information with other drivers involved in the accident.\n",
      "3. Document the accident details.\n",
      "4. Report the accident to your insurance provider within 24 hours to start the claims process.\n",
      "\n",
      "To file a claim, please provide your policy number and the accident details. Our claims team will get in touch with you within 24 hours to guide you through the next steps.\n",
      "\n",
      "If you have further questions or need immediate assistance, I recommend contacting our customer service directly.\n",
      "Escalation Reason: Escalated due to urgency_keywords\n",
      "--------------------------------------------------\n",
      "\n",
      "Query: How do I file a home insurance claim?\n",
      "Escalated: False\n",
      "Answer: Thank you for reaching out regarding how to file a home insurance claim. Unfortunately, the specific information on how to file a claim is not available in the provided context. To ensure you receive the most accurate guidance and support, please contact our customer service team directly. They will be able to assist you with the claims process promptly and thoroughly.\n",
      "--------------------------------------------------\n",
      "\n",
      "Query: Can you explain my policy deductible?\n",
      "Escalated: False\n",
      "Answer: I'm sorry, but the context provided does not include specific information on the deductible for a general insurance policy. Typically, a deductible is the amount you pay out of pocket before your insurance coverage kicks in. For specific details about your policy's deductible, I recommend contacting our customer service team for assistance. They can provide you with precise information regarding the terms and conditions of your policy.\n",
      "--------------------------------------------------\n"
     ]
    }
   ],
   "source": [
    "# Test cases\n",
    "test_queries = [\n",
    "    \"What does my health insurance cover?\",\n",
    "    \"I had a car accident, need urgent help!\",\n",
    "    \"How do I file a home insurance claim?\",\n",
    "    \"Can you explain my policy deductible?\"\n",
    "]\n",
    "\n",
    "for query in test_queries:\n",
    "    print(f\"\\nQuery: {query}\")\n",
    "    response = process_query(query)\n",
    "    print(f\"Escalated: {response['escalated']}\")\n",
    "    print(f\"Answer: {response['answer']}\")\n",
    "    if response['escalated']:\n",
    "        print(f\"Escalation Reason: {response['escalation_reason']}\")\n",
    "    print(\"-\" * 50)"
   ]
  },
  {
   "cell_type": "code",
   "execution_count": null,
   "id": "44d88465-67c5-4666-b959-ca08aa982d5b",
   "metadata": {},
   "outputs": [],
   "source": []
  }
 ],
 "metadata": {
  "kernelspec": {
   "display_name": "Python 3 (ipykernel)",
   "language": "python",
   "name": "python3"
  },
  "language_info": {
   "codemirror_mode": {
    "name": "ipython",
    "version": 3
   },
   "file_extension": ".py",
   "mimetype": "text/x-python",
   "name": "python",
   "nbconvert_exporter": "python",
   "pygments_lexer": "ipython3",
   "version": "3.9.13"
  }
 },
 "nbformat": 4,
 "nbformat_minor": 5
}
