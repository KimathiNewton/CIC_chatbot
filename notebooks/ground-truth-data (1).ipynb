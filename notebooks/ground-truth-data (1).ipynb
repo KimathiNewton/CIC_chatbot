{
 "cells": [
  {
   "cell_type": "markdown",
   "id": "f320d500-8f68-4c7a-ba1c-a71b4c04699c",
   "metadata": {},
   "source": [
    "## Importations"
   ]
  },
  {
   "cell_type": "code",
   "execution_count": 1,
   "id": "ec18b436-a3a8-4007-aa98-137f9c211c6e",
   "metadata": {},
   "outputs": [],
   "source": [
    "import pandas as pd\n",
    "import numpy as np\n",
    "import hashlib\n",
    "import json\n",
    "from collections import defaultdict\n",
    "import os\n",
    "from groq import Groq\n",
    "from dotenv import load_dotenv\n",
    "from tqdm.auto import tqdm\n",
    "from openai import OpenAI\n"
   ]
  },
  {
   "cell_type": "code",
   "execution_count": 2,
   "id": "39c6b067-9f5d-4fa5-938b-ec474fb9d647",
   "metadata": {},
   "outputs": [
    {
     "data": {
      "text/plain": [
       "True"
      ]
     },
     "execution_count": 2,
     "metadata": {},
     "output_type": "execute_result"
    }
   ],
   "source": [
    "load_dotenv()\n"
   ]
  },
  {
   "cell_type": "code",
   "execution_count": 49,
   "id": "b2939cc2-9a29-450e-8178-f0c49adfd0a1",
   "metadata": {},
   "outputs": [],
   "source": [
    "# Access the API keys\n",
    "groq_api_key = os.getenv(\"GROQ_API_KEY\")"
   ]
  },
  {
   "cell_type": "markdown",
   "id": "8e967f7c-51f5-4888-9fd1-22017035abd8",
   "metadata": {},
   "source": [
    "## Loading Data"
   ]
  },
  {
   "cell_type": "code",
   "execution_count": 3,
   "id": "7ba3282a-6099-44b3-81c6-ba4b73d80e7b",
   "metadata": {},
   "outputs": [],
   "source": [
    "with open('data.json', 'rt') as f:\n",
    "    documents= json.load(f)"
   ]
  },
  {
   "cell_type": "code",
   "execution_count": 4,
   "id": "5d26cccd-01c2-4cfd-8e83-84a727405680",
   "metadata": {},
   "outputs": [
    {
     "data": {
      "text/plain": [
       "{'question': 'Does homeowners insurance cover mold damage?',\n",
       " 'text': 'Mold damage is often covered if caused by a sudden event, like water damage from a burst pipe. Gradual mold growth is typically not covered.',\n",
       " 'policy': 'Homeowners Insurance'}"
      ]
     },
     "execution_count": 4,
     "metadata": {},
     "output_type": "execute_result"
    }
   ],
   "source": [
    "documents[10]"
   ]
  },
  {
   "cell_type": "markdown",
   "id": "4ba6ec54-0779-4eda-8a39-866bebf1ead5",
   "metadata": {},
   "source": [
    "## Generating unique ids for each document"
   ]
  },
  {
   "cell_type": "code",
   "execution_count": 5,
   "id": "9880aca9-ae97-42f5-9aa5-37bb46448841",
   "metadata": {},
   "outputs": [],
   "source": [
    "def generate_document_id(doc):\n",
    "    # combined = f\"{doc['course']}-{doc['question']}\"\n",
    "    combined = f\"{doc['policy']}-{doc['question']}-{doc['text'][:10]}\"\n",
    "    hash_object = hashlib.md5(combined.encode())\n",
    "    hash_hex = hash_object.hexdigest()\n",
    "    document_id = hash_hex[:8]\n",
    "    return document_id"
   ]
  },
  {
   "cell_type": "code",
   "execution_count": 7,
   "id": "66719b38-04f3-41a8-bdd8-f33f04fe9367",
   "metadata": {},
   "outputs": [],
   "source": [
    "for doc in documents:\n",
    "    doc['id'] = generate_document_id(doc)"
   ]
  },
  {
   "cell_type": "code",
   "execution_count": 8,
   "id": "d4672632-acc2-4c1c-96b4-d30f24598aa1",
   "metadata": {},
   "outputs": [
    {
     "data": {
      "text/plain": [
       "{'question': 'Does health insurance cover prescription medications?',\n",
       " 'text': 'Prescription medication coverage varies by plan. Many plans cover a range of medications, subject to copayments or deductibles.',\n",
       " 'policy': 'Health Insurance',\n",
       " 'id': '1dc03e8e'}"
      ]
     },
     "execution_count": 8,
     "metadata": {},
     "output_type": "execute_result"
    }
   ],
   "source": [
    "documents[3]"
   ]
  },
  {
   "cell_type": "code",
   "execution_count": 9,
   "id": "410f08db-2302-4c50-926c-511037b46c90",
   "metadata": {},
   "outputs": [],
   "source": [
    "hashes = defaultdict(list)\n",
    "\n",
    "for doc in documents:\n",
    "    doc_id = doc['id']\n",
    "    hashes[doc_id].append(doc)"
   ]
  },
  {
   "cell_type": "code",
   "execution_count": 10,
   "id": "47c69c01-e952-4818-a307-94ea224ca423",
   "metadata": {},
   "outputs": [
    {
     "data": {
      "text/plain": [
       "(199, 201)"
      ]
     },
     "execution_count": 10,
     "metadata": {},
     "output_type": "execute_result"
    }
   ],
   "source": [
    "# Checking the legnth of ids and documents\n",
    "len(hashes), len(documents)"
   ]
  },
  {
   "cell_type": "code",
   "execution_count": 34,
   "id": "c3e495f9-fdac-436f-88e9-44ae68844ee3",
   "metadata": {},
   "outputs": [
    {
     "name": "stdout",
     "output_type": "stream",
     "text": [
      "8ade9655 2\n",
      "c1ec38d4 2\n"
     ]
    }
   ],
   "source": [
    "for k, values in hashes.items():\n",
    "    if len(values) > 1:\n",
    "        print(k, len(values))"
   ]
  },
  {
   "cell_type": "code",
   "execution_count": 35,
   "id": "56bed2ec-9b14-4e7c-9db4-87900b30a674",
   "metadata": {},
   "outputs": [
    {
     "data": {
      "text/plain": [
       "[{'question': 'What does homeowners insurance cover?',\n",
       "  'text': 'Homeowners insurance covers damages to your home and personal property due to events like fire, theft, and some natural disasters. It may also include liability protection.',\n",
       "  'policy': 'Homeowners Insurance',\n",
       "  'id': 'c1ec38d4'},\n",
       " {'question': 'What does homeowners insurance cover?',\n",
       "  'text': 'Homeowners insurance covers your home and personal property against risks like fire, theft, and liability. Specifics vary by policy.',\n",
       "  'policy': 'Homeowners Insurance',\n",
       "  'id': 'c1ec38d4'}]"
      ]
     },
     "execution_count": 35,
     "metadata": {},
     "output_type": "execute_result"
    }
   ],
   "source": [
    "hashes['c1ec38d4']"
   ]
  },
  {
   "cell_type": "code",
   "execution_count": 36,
   "id": "38d96a3b-427f-49c4-89eb-545601d86b08",
   "metadata": {},
   "outputs": [
    {
     "data": {
      "text/plain": [
       "[{'question': 'What is uninsured motorist coverage?',\n",
       "  'text': \"Uninsured motorist coverage helps pay for damages if you're hit by a driver without insurance or insufficient coverage.\",\n",
       "  'policy': 'Auto Insurance',\n",
       "  'id': '8ade9655'},\n",
       " {'question': 'What is uninsured motorist coverage?',\n",
       "  'text': \"Uninsured motorist coverage protects you if you're in an accident with a driver who doesn't have insurance. It may also cover underinsured drivers.\",\n",
       "  'policy': 'Auto Insurance',\n",
       "  'id': '8ade9655'}]"
      ]
     },
     "execution_count": 36,
     "metadata": {},
     "output_type": "execute_result"
    }
   ],
   "source": [
    "hashes['8ade9655']"
   ]
  },
  {
   "cell_type": "code",
   "execution_count": 37,
   "id": "686a488a-67af-4f21-8538-2180dc085fa2",
   "metadata": {},
   "outputs": [],
   "source": [
    "with open('documents-with-ids.json', 'wt') as f_out:\n",
    "    json.dump(documents, f_out, indent=2)"
   ]
  },
  {
   "cell_type": "code",
   "execution_count": 11,
   "id": "1c062325-5608-4da6-80bf-b9ac371bc17f",
   "metadata": {},
   "outputs": [],
   "source": [
    "prompt_template = \"\"\"\n",
    "You are emulating a customer interested in CIC's insurance policies. \n",
    "Formulate 5 questions this customer might ask based on an FAQ record. \n",
    "Each question should be complete, concise, and avoid using too many words directly from the record.\n",
    "\n",
    "The record:\n",
    "\n",
    "policy: {policy}\n",
    "question: {question}\n",
    "answer: {text}\n",
    "\n",
    "Provide the output in parsable JSON without using code blocks:\n",
    "\n",
    "[\"question1\", \"question2\", ..., \"question5\"]\n",
    "\"\"\".strip()\n"
   ]
  },
  {
   "cell_type": "code",
   "execution_count": 12,
   "id": "51b8f259-eed8-4a50-b50c-2186fb154853",
   "metadata": {},
   "outputs": [
    {
     "name": "stdout",
     "output_type": "stream",
     "text": [
      "You are emulating a customer interested in CIC's insurance policies. \n",
      "Formulate 5 questions this customer might ask based on an FAQ record. \n",
      "Each question should be complete, concise, and avoid using too many words directly from the record.\n",
      "\n",
      "The record:\n",
      "\n",
      "policy: Health Insurance\n",
      "question: What services are covered under preventive care?\n",
      "answer: Preventive care typically includes annual check-ups, vaccinations, and screenings. Coverage varies, so refer to your policy for specific services.\n",
      "\n",
      "Provide the output in parsable JSON without using code blocks:\n",
      "\n",
      "[\"question1\", \"question2\", ..., \"question5\"]\n"
     ]
    }
   ],
   "source": [
    "prompt = prompt_template.format(**documents[0])\n",
    "print(prompt)"
   ]
  },
  {
   "cell_type": "code",
   "execution_count": 13,
   "id": "17851fdc-39ab-47a5-a2aa-3696d6bd95b5",
   "metadata": {},
   "outputs": [],
   "source": [
    "client = OpenAI()"
   ]
  },
  {
   "cell_type": "code",
   "execution_count": 14,
   "id": "0ead0dda-d4f1-4a3e-b13b-700423e966b2",
   "metadata": {},
   "outputs": [],
   "source": [
    "def llm(prompt):\n",
    "    response = client.chat.completions.create(\n",
    "        model='gpt-4o',\n",
    "        messages=[{\"role\": \"user\", \"content\": prompt}]\n",
    "    )\n",
    "    \n",
    "    return response.choices[0].message.content"
   ]
  },
  {
   "cell_type": "code",
   "execution_count": 15,
   "id": "507e3f86-e400-4335-891b-60c8ec6a522e",
   "metadata": {},
   "outputs": [],
   "source": [
    "quiz=llm(prompt)\n"
   ]
  },
  {
   "cell_type": "code",
   "execution_count": 16,
   "id": "81945def-53b7-4fb9-b636-842d3bb9386b",
   "metadata": {},
   "outputs": [
    {
     "name": "stdout",
     "output_type": "stream",
     "text": [
      "[\n",
      "  \"What is included in the preventive care benefits of your health insurance?\",\n",
      "  \"Are vaccinations part of the services covered under preventive care?\",\n",
      "  \"Do annual health check-ups fall under preventive care coverage?\",\n",
      "  \"Can you explain what screenings are covered as preventive care services?\",\n",
      "  \"How can I find detailed information about preventive care services in my policy?\"\n",
      "]\n"
     ]
    }
   ],
   "source": [
    "print(quiz)\n"
   ]
  },
  {
   "cell_type": "code",
   "execution_count": null,
   "id": "6513827c-b6ec-44a8-9c81-2b44aa95efed",
   "metadata": {},
   "outputs": [],
   "source": []
  },
  {
   "cell_type": "code",
   "execution_count": 18,
   "id": "534ac1ae-b5e0-43a7-b8ad-103fd56ced54",
   "metadata": {},
   "outputs": [],
   "source": [
    "def generate_questions(doc):\n",
    "    prompt = prompt_template.format(**doc)\n",
    "\n",
    "    response = client.chat.completions.create(\n",
    "        model='gpt-4o',\n",
    "        messages=[{\"role\": \"user\", \"content\": prompt}]\n",
    "    )\n",
    "\n",
    "    json_response = response.choices[0].message.content\n",
    "    return json_response\n"
   ]
  },
  {
   "cell_type": "code",
   "execution_count": 17,
   "id": "eb2353f8-411b-4ab9-a4c2-0d158495491e",
   "metadata": {},
   "outputs": [],
   "source": [
    "from tqdm.auto import tqdm"
   ]
  },
  {
   "cell_type": "code",
   "execution_count": 31,
   "id": "c5c13361-733e-4d95-8deb-a130ba103573",
   "metadata": {},
   "outputs": [
    {
     "data": {
      "application/vnd.jupyter.widget-view+json": {
       "model_id": "43899e63d97e4873914612e6ed1bb4a2",
       "version_major": 2,
       "version_minor": 0
      },
      "text/plain": [
       "  0%|          | 0/201 [00:00<?, ?it/s]"
      ]
     },
     "metadata": {},
     "output_type": "display_data"
    },
    {
     "name": "stdout",
     "output_type": "stream",
     "text": [
      "Unexpected data format for doc_id 9171895c\n",
      "Unexpected data format for doc_id cb2f95ef\n",
      "Unexpected data format for doc_id afdeb119\n"
     ]
    }
   ],
   "source": [
    "results = []\n",
    "for doc in tqdm(documents):\n",
    "    doc_id = doc['id']\n",
    "    policy = doc['policy']\n",
    "    if any(r['id'] == doc_id for r in results):\n",
    "        continue\n",
    "    questions_raw = generate_questions(doc)\n",
    "    #print(f\"Raw JSON data for doc_id {doc_id}: {questions_raw}\")\n",
    "\n",
    "    # Check if it's empty\n",
    "    if not questions_raw:\n",
    "        print(f\"Error: Empty response for doc_id {doc_id}\")\n",
    "    else:\n",
    "        # Try parsing the list of questions directly\n",
    "        try:\n",
    "            questions = json.loads(questions_raw)\n",
    "            if isinstance(questions, list):\n",
    "                for question in questions:\n",
    "                    results.append({\"id\": doc_id, \"question\": question, \"policy\": policy})\n",
    "            else:\n",
    "                print(f\"Unexpected data format for doc_id {doc_id}\")\n",
    "        except json.JSONDecodeError as e:\n",
    "            print(f\"JSON decoding failed for doc_id {doc_id}: {e}\")"
   ]
  },
  {
   "cell_type": "code",
   "execution_count": 95,
   "id": "2d5cd8f8-ddfd-4802-908b-504722511a04",
   "metadata": {},
   "outputs": [
    {
     "data": {
      "text/plain": [
       "['Can I include dependents in my health insurance policy?',\n",
       " 'When can I add dependents to my health insurance plan?',\n",
       " 'Are there specific events that allow me to add dependents to my health insurance?',\n",
       " 'What are the qualifying life events for adding dependents to my health insurance?',\n",
       " 'How does the open enrollment period impact adding dependents to my health insurance plan?']"
      ]
     },
     "execution_count": 95,
     "metadata": {},
     "output_type": "execute_result"
    }
   ],
   "source": [
    "results['7fc6cf18']"
   ]
  },
  {
   "cell_type": "code",
   "execution_count": 23,
   "id": "d265559b-de13-45a3-ba4d-b5f84a3c070a",
   "metadata": {},
   "outputs": [],
   "source": [
    "doc_index = {d['id']: d for d in documents}\n"
   ]
  },
  {
   "cell_type": "code",
   "execution_count": 32,
   "id": "c5adba2e-d628-47e5-a107-0ddad14fd667",
   "metadata": {},
   "outputs": [],
   "source": [
    "df = pd.DataFrame(results)"
   ]
  },
  {
   "cell_type": "code",
   "execution_count": 33,
   "id": "76d383f7-1010-4ca3-8e8d-2a6772cda2ba",
   "metadata": {},
   "outputs": [
    {
     "data": {
      "text/html": [
       "<div>\n",
       "<style scoped>\n",
       "    .dataframe tbody tr th:only-of-type {\n",
       "        vertical-align: middle;\n",
       "    }\n",
       "\n",
       "    .dataframe tbody tr th {\n",
       "        vertical-align: top;\n",
       "    }\n",
       "\n",
       "    .dataframe thead th {\n",
       "        text-align: right;\n",
       "    }\n",
       "</style>\n",
       "<table border=\"1\" class=\"dataframe\">\n",
       "  <thead>\n",
       "    <tr style=\"text-align: right;\">\n",
       "      <th></th>\n",
       "      <th>id</th>\n",
       "      <th>question</th>\n",
       "      <th>policy</th>\n",
       "    </tr>\n",
       "  </thead>\n",
       "  <tbody>\n",
       "    <tr>\n",
       "      <th>0</th>\n",
       "      <td>ac3af67e</td>\n",
       "      <td>What does preventive care usually include in y...</td>\n",
       "      <td>Health Insurance</td>\n",
       "    </tr>\n",
       "    <tr>\n",
       "      <th>1</th>\n",
       "      <td>ac3af67e</td>\n",
       "      <td>Are annual health assessments covered under yo...</td>\n",
       "      <td>Health Insurance</td>\n",
       "    </tr>\n",
       "    <tr>\n",
       "      <th>2</th>\n",
       "      <td>ac3af67e</td>\n",
       "      <td>Do you offer coverage for vaccinations in your...</td>\n",
       "      <td>Health Insurance</td>\n",
       "    </tr>\n",
       "    <tr>\n",
       "      <th>3</th>\n",
       "      <td>ac3af67e</td>\n",
       "      <td>Can you provide information on the screenings ...</td>\n",
       "      <td>Health Insurance</td>\n",
       "    </tr>\n",
       "    <tr>\n",
       "      <th>4</th>\n",
       "      <td>ac3af67e</td>\n",
       "      <td>How can I find out which specific preventive s...</td>\n",
       "      <td>Health Insurance</td>\n",
       "    </tr>\n",
       "  </tbody>\n",
       "</table>\n",
       "</div>"
      ],
      "text/plain": [
       "         id                                           question  \\\n",
       "0  ac3af67e  What does preventive care usually include in y...   \n",
       "1  ac3af67e  Are annual health assessments covered under yo...   \n",
       "2  ac3af67e  Do you offer coverage for vaccinations in your...   \n",
       "3  ac3af67e  Can you provide information on the screenings ...   \n",
       "4  ac3af67e  How can I find out which specific preventive s...   \n",
       "\n",
       "             policy  \n",
       "0  Health Insurance  \n",
       "1  Health Insurance  \n",
       "2  Health Insurance  \n",
       "3  Health Insurance  \n",
       "4  Health Insurance  "
      ]
     },
     "execution_count": 33,
     "metadata": {},
     "output_type": "execute_result"
    }
   ],
   "source": [
    "df.head()"
   ]
  },
  {
   "cell_type": "code",
   "execution_count": 34,
   "id": "9e4d5ba5-c59c-4e0f-9e79-8f4cd86bb5f0",
   "metadata": {},
   "outputs": [],
   "source": [
    "df.to_csv('ground-truth-data.csv', index=False)"
   ]
  },
  {
   "cell_type": "code",
   "execution_count": 78,
   "id": "f88e2b0d-53ba-4766-9f5c-aa5d85eff47b",
   "metadata": {},
   "outputs": [
    {
     "name": "stdout",
     "output_type": "stream",
     "text": [
      "question,course,document\n",
      "When does the course begin?,data-engineering-zoomcamp,c02e79ef\n",
      "How can I get the course schedule?,data-engineering-zoomcamp,c02e79ef\n",
      "What is the link for course registration?,data-engineering-zoomcamp,c02e79ef\n",
      "How can I receive course announcements?,data-engineering-zoomcamp,c02e79ef\n",
      "Where do I join the Slack channel?,data-engineering-zoomcamp,c02e79ef\n",
      "Where can I find the prerequisites for this course?,data-engineering-zoomcamp,1f6520ca\n",
      "How do I check the prerequisites for this course?,data-engineering-zoomcamp,1f6520ca\n",
      "Where are the course prerequisites listed?,data-engineering-zoomcamp,1f6520ca\n",
      "What are the requirements for joining this course?,data-engineering-zoomcamp,1f6520ca\n"
     ]
    }
   ],
   "source": []
  },
  {
   "cell_type": "code",
   "execution_count": null,
   "id": "46afefd7-2230-4a08-ae31-5600de189d6f",
   "metadata": {},
   "outputs": [],
   "source": []
  }
 ],
 "metadata": {
  "kernelspec": {
   "display_name": "Python 3 (ipykernel)",
   "language": "python",
   "name": "python3"
  },
  "language_info": {
   "codemirror_mode": {
    "name": "ipython",
    "version": 3
   },
   "file_extension": ".py",
   "mimetype": "text/x-python",
   "name": "python",
   "nbconvert_exporter": "python",
   "pygments_lexer": "ipython3",
   "version": "3.9.13"
  }
 },
 "nbformat": 4,
 "nbformat_minor": 5
}
